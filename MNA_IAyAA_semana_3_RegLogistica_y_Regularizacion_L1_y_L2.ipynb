{
  "nbformat": 4,
  "nbformat_minor": 0,
  "metadata": {
    "colab": {
      "provenance": [],
      "collapsed_sections": []
    },
    "kernelspec": {
      "name": "python3",
      "display_name": "Python 3"
    },
    "language_info": {
      "name": "python"
    }
  },
  "cells": [
    {
      "cell_type": "markdown",
      "source": [
        "#**Maestría en Inteligencia Artificial Aplicada**\n",
        "##**Curso: Inteligencia Artificial y Aprendizaje Automático**\n",
        "###Tecnológico de Monterrey\n",
        "###Prof Luis Eduardo Falcón Morales\n",
        "\n",
        "### **Semana 3**\n",
        "####**Regresión Logística y métodos de Regularización $L_1$ (lasso), $L_2$ (ridge) y el conjunto $L_{12}$ (elastic net).**"
      ],
      "metadata": {
        "id": "DrfZNe792WGZ"
      }
    },
    {
      "cell_type": "markdown",
      "source": [
        "#**Parte - 1: Entendiendo los métodos de Regularización con las métricas $L_1$ y $L_2$.**"
      ],
      "metadata": {
        "id": "6k-IEniS2oJt"
      }
    },
    {
      "cell_type": "markdown",
      "source": [
        "Hay que recordar que en general los métodos de aprendizaje automático supervisado tratan de modelar y explicar el comportamiento de una variable de respuesta $y$, a partir de un conjunto de factores de entrada $X$, dado un conjunto de parejas ordenadas $(\\vec{x}_k, y_k), k=1,2,...,m$. \n",
        "\n",
        "El buen desempeño del modelo se medirá mediante una función de costo que nos permita minimizar el error hasta un mínimo que se considere aceptable por parte del analista. La función de costo puede ser muy variada y los investigadores siguen proponiendo algunas nuevas, pero en particular veamos el caso del método de regresión lineal en detalle para poder ilustrar el problema que nos incumbe en esta semana, el de la **regularización**. Supongamos que el problema es de regresión lineal con dos factores de entrada $x_1$ y $x_2$ y que después del proceso de entrenamiento obtuvimos el modelo $\\hat{y} = \\omega_0 + \\omega_1x_1 + \\omega_2x_2$. A los parámetros $\\omega_j$ se les conoce también como los **pesos** del modelo. Una manera de medir el error de predicción $\\hat{y}_k$ es medir la diferencia o residuo con el valor real observado $y_k$ a través del error cuadrático medio $MSE$ que se define como sigue:\n",
        "\n",
        "$MSE =\\frac{1}{m}\\sum_{k=1}^{m}(\\hat{y}_k-y_k)^2= \\frac{1}{m}\\sum_{k=1}^{m}(\\omega_0+\\omega_1x_{1,k}+\\omega_2x_{2,k}-y_k)^2$\n",
        "\n",
        "donde $x_{j,k}$ indica el factor $x_j$ evaluado en el $k$-ésimo registro. Viendo a $MSE$ como una función de los pesos del modelo, se le suele tomar como la función de costo que se debe minimizar en el conocido método de mínimos cuadrados para el modelo de regresión lineal múltiple. \n",
        "\n",
        "En el caso idealizado de que todas las predicciones del modelo entrenado sean exactamente iguales a las reales observadas, $MSE=0$. Sin embargo, en los problemas reales y por el ruido inherente existente en cada problema, dicho error raramente es identicamente igual a cero. \n",
        "\n",
        "Por otro lado, sabemos que cuando el modelo empieza a sobreentrenarse durante la etapa de entrenamiento, una de las consecuencias es que los coeficientes $\\omega_0$, $\\omega_1$, $\\omega_2$ empiezan a crecer en magnitud. Es por ello que \"regularizar\" el modelo, significa restringirlo para evitar que dichos coeficientes aumenten de manera indiscriminada. Y las dos maneras principales de restringir el crecimiento sin control de dichos pesos, es decir, de regularizar el modelo es mediante las llamadas métricas $L_1$ y $L_2$, como sigue:\n",
        "\n",
        "\n",
        "**Función de costo con métrica de regularización $L_1$. Conocida también como lasso (least absolute shrinkage and selection operator, por sus iniciales en inglés):**\n",
        "\n",
        "$J_{L_1}(\\omega) = MSE + α\\sum_{j=1}^{m}|\\omega_j|$\n",
        "\n",
        "**Función de costo con métrica de regularización $L_2$. También conocida como de Tíjonov (en inglés se le conoce como ridge):**\n",
        "\n",
        "$J_{L_2}(\\omega) = MSE + α\\sum_{j=1}^{m}\\omega_j^2$\n",
        "\n",
        "\n",
        "**Se pueden combinar ambas en la llamada regularización \"elastic net\":**\n",
        "\n",
        "\n",
        "$J_{L_{12}}(\\omega) = MSE + α_1\\sum_{j=1}^{m}|\\omega_j| + α_2\\sum_{j=1}^{m}\\omega_j^2$\n",
        "\n",
        "En español es usual referirse a estos métodos de regularización por el uso de la métrica $L1$, $L_2$ y $L_{12}$ correspondiente, o bien, haciendo referencia a ella por sus nombres en inglés, lasso, ridge y elastic-net, respectivamente.\n",
        "\n",
        "Los parámetros de regularización $\\alpha$, $\\alpha_1$ y $\\alpha_2$ deben ser mayores a cero. El caso igual a cero reduce la función de costo nuevamente a $MSE$.\n",
        "\n",
        "Es importante hacer las siguientes observaciones: \n",
        "\n",
        "*   En cualquiera de los métodos de regularización el parámetro $\\omega_0$ no interviene. Es decir, en el caso del método de regresión lineal, solo se regularizan los coeficientes de cada factor de entrada.\n",
        "\n",
        "*   El sumar los pesos $\\omega_j, j=1,...,m$ a la función de costo en la forma indicada en cada caso, permitirá que el proceso de entrenamiento \"impida\" el crecimiento de los mismos, ya que se está bajo un método de minimización de los errores. \n",
        "\n",
        "*   De manera general, con la métrica $L_2$ se castiga a todos los pesos del modelo de manera uniforme y mientras mayor sea el valor de alguno de los coeficientes, mayor es la penalización para todos.\n",
        "\n",
        "*   De manera general, con la métrica $L_1$, lo factores que el modelo considera que no aportan información para explicar el comportamiento de la variable de salida, los nulifica. Igualmente penaliza a todos los coeficientes(aunque no de manera uniforme), el que alguno de ellos incremente demasiado su valor.\n",
        "\n",
        "*   Aunque las tres técnicas de regularización tienen el mismo objetivo, el impedir que los pesos crezcan demasiado, cada uno tiene sus propias particularidades como lo veremos en un ejemplo sencillo a continuación.\n",
        "\n"
      ],
      "metadata": {
        "id": "Vt0vuFBK4OTt"
      }
    },
    {
      "cell_type": "markdown",
      "source": [
        "####**NOTA-Opcional**: Para saber más del tema, puedes consultar la sección llamada \"Regularized Linear Models\" del capítulo 4 del libro de Aurélien Géron.\n"
      ],
      "metadata": {
        "id": "TKbxj1QSzfYH"
      }
    },
    {
      "cell_type": "code",
      "execution_count": 1,
      "metadata": {
        "id": "xWB_pwwgblWM"
      },
      "outputs": [],
      "source": [
        "import numpy as np\n",
        "import matplotlib.pyplot as plt\n",
        "import random\n",
        "import seaborn as sns\n",
        "import pandas as pd\n",
        "\n",
        "from sklearn.linear_model import LinearRegression, Lasso, Ridge, ElasticNet"
      ]
    },
    {
      "cell_type": "markdown",
      "source": [
        "Definiremos una matriz de entrada X con 3 factores, donde la segunda y tercera son el cuadrado y cubo de la primera. \n",
        "\n",
        "La variable de salida será una función cúbica que las relaciona.\n",
        "\n",
        "Recuerda consultar la documentación de cada función utilizada. Por ejemplo, para las primeras líneas de código:\n",
        "\n",
        "https://numpy.org/doc/stable/reference/generated/numpy.arange.html\n",
        "\n",
        "https://numpy.org/doc/stable/reference/generated/numpy.concatenate.html\n",
        "\n",
        "https://numpy.org/doc/stable/reference/generated/numpy.vstack.html \n"
      ],
      "metadata": {
        "id": "2D6mXnrA5_x5"
      }
    },
    {
      "cell_type": "code",
      "source": [
        "# Definimos nuestras 3 variables en el intervalo -1.3 a 3.5 como sigue:\n",
        "\n",
        "x1 = np.arange(-1.3, 3.5, .125)     # factor/variable lineal\n",
        "x2 = x1*x1                          # factor cuadrático\n",
        "x3 = x1*x1*x1                       # factor cúbico"
      ],
      "metadata": {
        "id": "8U41vHS7cR3G"
      },
      "execution_count": 2,
      "outputs": []
    },
    {
      "cell_type": "code",
      "source": [
        "# Y definimos nuestra matriz de datos de entrada X como un DataFrame de Pandas:\n",
        "# La matriz X estará formada por las columnas 1, 2 y 3 con los factores lineal,\n",
        "# cuadrático y cúbico, respectivamente:\n",
        "\n",
        "w = np.concatenate((np.vstack(x1),np.vstack(x2),np.vstack(x3)), axis=1)\n",
        "w.shape\n",
        "\n",
        "X = pd.DataFrame(w, columns=['x1','x2','x3'])\n",
        "X.head()"
      ],
      "metadata": {
        "colab": {
          "base_uri": "https://localhost:8080/",
          "height": 206
        },
        "id": "AgwS8Gfdc4Vm",
        "outputId": "0b9e6d1e-8f35-481a-c973-da915fd7d52b"
      },
      "execution_count": 3,
      "outputs": [
        {
          "output_type": "execute_result",
          "data": {
            "text/plain": [
              "      x1        x2        x3\n",
              "0 -1.300  1.690000 -2.197000\n",
              "1 -1.175  1.380625 -1.622234\n",
              "2 -1.050  1.102500 -1.157625\n",
              "3 -0.925  0.855625 -0.791453\n",
              "4 -0.800  0.640000 -0.512000"
            ],
            "text/html": [
              "\n",
              "  <div id=\"df-3957a218-1ebb-443b-a000-52fb01fb50d8\">\n",
              "    <div class=\"colab-df-container\">\n",
              "      <div>\n",
              "<style scoped>\n",
              "    .dataframe tbody tr th:only-of-type {\n",
              "        vertical-align: middle;\n",
              "    }\n",
              "\n",
              "    .dataframe tbody tr th {\n",
              "        vertical-align: top;\n",
              "    }\n",
              "\n",
              "    .dataframe thead th {\n",
              "        text-align: right;\n",
              "    }\n",
              "</style>\n",
              "<table border=\"1\" class=\"dataframe\">\n",
              "  <thead>\n",
              "    <tr style=\"text-align: right;\">\n",
              "      <th></th>\n",
              "      <th>x1</th>\n",
              "      <th>x2</th>\n",
              "      <th>x3</th>\n",
              "    </tr>\n",
              "  </thead>\n",
              "  <tbody>\n",
              "    <tr>\n",
              "      <th>0</th>\n",
              "      <td>-1.300</td>\n",
              "      <td>1.690000</td>\n",
              "      <td>-2.197000</td>\n",
              "    </tr>\n",
              "    <tr>\n",
              "      <th>1</th>\n",
              "      <td>-1.175</td>\n",
              "      <td>1.380625</td>\n",
              "      <td>-1.622234</td>\n",
              "    </tr>\n",
              "    <tr>\n",
              "      <th>2</th>\n",
              "      <td>-1.050</td>\n",
              "      <td>1.102500</td>\n",
              "      <td>-1.157625</td>\n",
              "    </tr>\n",
              "    <tr>\n",
              "      <th>3</th>\n",
              "      <td>-0.925</td>\n",
              "      <td>0.855625</td>\n",
              "      <td>-0.791453</td>\n",
              "    </tr>\n",
              "    <tr>\n",
              "      <th>4</th>\n",
              "      <td>-0.800</td>\n",
              "      <td>0.640000</td>\n",
              "      <td>-0.512000</td>\n",
              "    </tr>\n",
              "  </tbody>\n",
              "</table>\n",
              "</div>\n",
              "      <button class=\"colab-df-convert\" onclick=\"convertToInteractive('df-3957a218-1ebb-443b-a000-52fb01fb50d8')\"\n",
              "              title=\"Convert this dataframe to an interactive table.\"\n",
              "              style=\"display:none;\">\n",
              "        \n",
              "  <svg xmlns=\"http://www.w3.org/2000/svg\" height=\"24px\"viewBox=\"0 0 24 24\"\n",
              "       width=\"24px\">\n",
              "    <path d=\"M0 0h24v24H0V0z\" fill=\"none\"/>\n",
              "    <path d=\"M18.56 5.44l.94 2.06.94-2.06 2.06-.94-2.06-.94-.94-2.06-.94 2.06-2.06.94zm-11 1L8.5 8.5l.94-2.06 2.06-.94-2.06-.94L8.5 2.5l-.94 2.06-2.06.94zm10 10l.94 2.06.94-2.06 2.06-.94-2.06-.94-.94-2.06-.94 2.06-2.06.94z\"/><path d=\"M17.41 7.96l-1.37-1.37c-.4-.4-.92-.59-1.43-.59-.52 0-1.04.2-1.43.59L10.3 9.45l-7.72 7.72c-.78.78-.78 2.05 0 2.83L4 21.41c.39.39.9.59 1.41.59.51 0 1.02-.2 1.41-.59l7.78-7.78 2.81-2.81c.8-.78.8-2.07 0-2.86zM5.41 20L4 18.59l7.72-7.72 1.47 1.35L5.41 20z\"/>\n",
              "  </svg>\n",
              "      </button>\n",
              "      \n",
              "  <style>\n",
              "    .colab-df-container {\n",
              "      display:flex;\n",
              "      flex-wrap:wrap;\n",
              "      gap: 12px;\n",
              "    }\n",
              "\n",
              "    .colab-df-convert {\n",
              "      background-color: #E8F0FE;\n",
              "      border: none;\n",
              "      border-radius: 50%;\n",
              "      cursor: pointer;\n",
              "      display: none;\n",
              "      fill: #1967D2;\n",
              "      height: 32px;\n",
              "      padding: 0 0 0 0;\n",
              "      width: 32px;\n",
              "    }\n",
              "\n",
              "    .colab-df-convert:hover {\n",
              "      background-color: #E2EBFA;\n",
              "      box-shadow: 0px 1px 2px rgba(60, 64, 67, 0.3), 0px 1px 3px 1px rgba(60, 64, 67, 0.15);\n",
              "      fill: #174EA6;\n",
              "    }\n",
              "\n",
              "    [theme=dark] .colab-df-convert {\n",
              "      background-color: #3B4455;\n",
              "      fill: #D2E3FC;\n",
              "    }\n",
              "\n",
              "    [theme=dark] .colab-df-convert:hover {\n",
              "      background-color: #434B5C;\n",
              "      box-shadow: 0px 1px 3px 1px rgba(0, 0, 0, 0.15);\n",
              "      filter: drop-shadow(0px 1px 2px rgba(0, 0, 0, 0.3));\n",
              "      fill: #FFFFFF;\n",
              "    }\n",
              "  </style>\n",
              "\n",
              "      <script>\n",
              "        const buttonEl =\n",
              "          document.querySelector('#df-3957a218-1ebb-443b-a000-52fb01fb50d8 button.colab-df-convert');\n",
              "        buttonEl.style.display =\n",
              "          google.colab.kernel.accessAllowed ? 'block' : 'none';\n",
              "\n",
              "        async function convertToInteractive(key) {\n",
              "          const element = document.querySelector('#df-3957a218-1ebb-443b-a000-52fb01fb50d8');\n",
              "          const dataTable =\n",
              "            await google.colab.kernel.invokeFunction('convertToInteractive',\n",
              "                                                     [key], {});\n",
              "          if (!dataTable) return;\n",
              "\n",
              "          const docLinkHtml = 'Like what you see? Visit the ' +\n",
              "            '<a target=\"_blank\" href=https://colab.research.google.com/notebooks/data_table.ipynb>data table notebook</a>'\n",
              "            + ' to learn more about interactive tables.';\n",
              "          element.innerHTML = '';\n",
              "          dataTable['output_type'] = 'display_data';\n",
              "          await google.colab.output.renderOutput(dataTable, element);\n",
              "          const docLink = document.createElement('div');\n",
              "          docLink.innerHTML = docLinkHtml;\n",
              "          element.appendChild(docLink);\n",
              "        }\n",
              "      </script>\n",
              "    </div>\n",
              "  </div>\n",
              "  "
            ]
          },
          "metadata": {},
          "execution_count": 3
        }
      ]
    },
    {
      "cell_type": "code",
      "source": [
        "# Definimos los siguientes pesos de manera arbitraria y que establece una relación\n",
        "# polinomial cúbica en nuestra variable de salida Y:\n",
        "\n",
        "w0 = 190\n",
        "w1= -85/3\n",
        "w2=-165\n",
        "w3=160/3\n",
        "\n",
        "print('Pesos (coeficientes) de una función polinomial de grado cúbico como función de salida:')\n",
        "print('lineal: %.2f, cuadrático: %.2f cubo: %.2f' % (w1, w2, w3))"
      ],
      "metadata": {
        "colab": {
          "base_uri": "https://localhost:8080/"
        },
        "id": "bA86cWYgn69N",
        "outputId": "eb46d7f4-0ebb-420f-81e3-78af696c86db"
      },
      "execution_count": 4,
      "outputs": [
        {
          "output_type": "stream",
          "name": "stdout",
          "text": [
            "Pesos (coeficientes) de una función polinomial de grado cúbico como función de salida:\n",
            "lineal: -28.33, cuadrático: -165.00 cubo: 53.33\n"
          ]
        }
      ]
    },
    {
      "cell_type": "markdown",
      "source": [
        "En particular por el momento no nos interesa el valor de $\\omega_0$, que equivale el coeficiente constante de la función polinomial. \n",
        "\n",
        "Lo que deseamos es ver el comportamiento de los pesos que se estarán regularizando, que en este caso serán $\\omega_1, \\omega_2$ y $\\omega_3$."
      ],
      "metadata": {
        "id": "4PofWJQlBMip"
      }
    },
    {
      "cell_type": "code",
      "source": [
        "# Definimos nuestra variable de salida con algo de ruido para que nuestro problema\n",
        "# no se reduzca simplemente a un problema de interpolación de puntos:\n",
        "\n",
        "random.seed(1)\n",
        "yreal = []\n",
        "for x in x1:\n",
        "  noise=200*(random.random() -0.5)\n",
        "  cc = w3*np.power(x,3) + w2*np.power(x,2) + w1*x + w0 + noise\n",
        "  yreal.append(cc)\n",
        "  \n",
        "  \n",
        "plt.scatter(x1,yreal)\n",
        "plt.show()"
      ],
      "metadata": {
        "colab": {
          "base_uri": "https://localhost:8080/",
          "height": 265
        },
        "id": "sHKE9NXofki0",
        "outputId": "0dc96c39-ebe2-4218-de2f-1384b4aaaf28"
      },
      "execution_count": 5,
      "outputs": [
        {
          "output_type": "display_data",
          "data": {
            "text/plain": [
              "<Figure size 432x288 with 1 Axes>"
            ],
            "image/png": "[encoded data removed]"
          },
          "metadata": {
            "needs_background": "light"
          }
        }
      ]
    },
    {
      "cell_type": "markdown",
      "source": [
        "Ya tenemos nuestros datos de salida \"yreal\" a partir de los cuales generar nuestro modelo."
      ],
      "metadata": {
        "id": "d55ntqRypuaG"
      }
    },
    {
      "cell_type": "markdown",
      "source": [
        "Recuerda revisar la documentación de cada uno de los modelos que aplicaremos:\n",
        "\n",
        "https://scikit-learn.org/stable/modules/generated/sklearn.linear_model.LinearRegression.html\n",
        "\n",
        "https://scikit-learn.org/stable/modules/generated/sklearn.linear_model.Lasso.html\n",
        "\n",
        "https://scikit-learn.org/stable/modules/generated/sklearn.linear_model.Ridge.html\n",
        "\n",
        "https://scikit-learn.org/stable/modules/generated/sklearn.linear_model.ElasticNet.html"
      ],
      "metadata": {
        "id": "6T-OPQjU_5qS"
      }
    },
    {
      "cell_type": "code",
      "source": [
        "# Definamos 4 modelos: el de regresión lineal múltiple (RLM); de RLM con \n",
        "# regularización L1 (lasso); de RLM con regularización L2 (ridge) y\n",
        "# RLM con regularización conjunta L1 y L2 (elastic-net):  \n",
        "\n",
        "modelos = []\n",
        "modelos.append(('LR', LinearRegression()))\n",
        "modelos.append(('LASSO', Lasso(alpha=30)))  \n",
        "modelos.append(('RIDGE', Ridge(alpha=30)))  \n",
        "modelos.append(('EN', ElasticNet(alpha=1, l1_ratio=.5)))\n",
        "\n",
        "\n",
        "yhat0 = []   # predicciones del modelo RLM\n",
        "yhat1 = []   # predicciones del RLM con regularización L1\n",
        "yhat2 = []   # predicciones del RLM con regularización L2\n",
        "yhat12 = []  # predicciones del RLM con regularización L1 y L2\n",
        "\n",
        "\n",
        "for name, model in modelos:\n",
        "  # entrenamos el modelo seleccionado y obtenemos sus predicciones:\n",
        "  print(\"%s:\" % name)\n",
        "  mm = model.fit(X, np.ravel(yreal))\n",
        "  yhat = mm.predict(X)\n",
        "  \n",
        "  print(mm.intercept_)   # por si deseas conocer w0.\n",
        "  print(mm.coef_)       # despleguemos los pesos obtenidos\n",
        "\n",
        "  if name=='LR':\n",
        "    yhat0.append(yhat)\n",
        "    print('\\n')\n",
        "  elif name=='LASSO':\n",
        "    yhat1.append(yhat)\n",
        "    print('\\n')\n",
        "  elif name=='RIDGE':\n",
        "    yhat2.append(yhat)\n",
        "    print('\\n')\n",
        "  else:\n",
        "    yhat12.append(yhat)"
      ],
      "metadata": {
        "colab": {
          "base_uri": "https://localhost:8080/"
        },
        "id": "SXMyy09Ykjnn",
        "outputId": "a9befc84-60fa-4507-c768-3ed710481fbf"
      },
      "execution_count": 6,
      "outputs": [
        {
          "output_type": "stream",
          "name": "stdout",
          "text": [
            "LR:\n",
            "194.91638384474888\n",
            "[ -40.14979812 -179.70350006   58.72754395]\n",
            "\n",
            "\n",
            "LASSO:\n",
            "117.13069427863499\n",
            "[  -0.         -102.25253563   31.42721669]\n",
            "\n",
            "\n",
            "RIDGE:\n",
            "88.97294849574072\n",
            "[-27.51573296 -61.84734688  22.38804271]\n",
            "\n",
            "\n",
            "EN:\n",
            "105.48167999947967\n",
            "[-32.10655264 -79.34645456  28.06434904]\n"
          ]
        }
      ]
    },
    {
      "cell_type": "markdown",
      "source": [
        "Algunas comentarios que podemos observar de los resultados anteriores:\n",
        "\n",
        "*   Cuando el parámetro alpha en cualquiera de los modelos con regularización es igual o muy cercano a cero, el resultado será muy parecido al de regresión lineal estándar, LR, lo cual se sigue de las definiciones que dimos al inicio de cada función de costo.\n",
        "\n",
        "*   Cuando el valor de alpha crece en cualquiera de los modelos de regularización, los pesos disminuyen (ya que tratan de minimizar la función de costo). \n",
        "\n",
        "*   Cuando alpha aumenta su valor en el caso Lasso, $L_1$, algunos de los pesos empiezan a tender cero. De hecho, si se sigue aumentando el valor de alpha y en cada caso entrenamos de nuevo el modelo, más pesos seguirán tendiendo a cero. Por ejemplo, modifica y observa los resultados de Lasso para los casos de alpha=0.1, 20, 30 y 65. Es decir, podemos decir que en lasso, algunos de los pesos que el modelo no considera muy relevantes, los castiga más haciéndolos tender a cero.\n",
        "\n",
        "*   La característica anterior del caso lasso, hace que se utilice en ocasiones como reducción de dimensionalidad, es decir, para reducir el conjunto de factores de entrada que tratan de explicar el comportamiento de la variable de salida. O bien, para determinar aquellos factores que dan mayor información a las predicciones. En este caso observamos que el último peso que queda en Lasso con alpha=65 es precisamente el cúbico, dicéndonos que el comportamiento primordial de los datos es cúbico, lo cual sabemos que este es el caso, ya que así los generamos.\n",
        "\n",
        "*   La característica del caso ridge, $L_2$, es que a diferencia de lasso, ahora al aumentar el valor de alpha, todos los pesos serán análogamente penalizados, haciéndolos tender todos a cero pero sin anular alguno de ellos de manera rápida antes que los demás. Por ejemplo, asigna los mismos valores de alpha usados en lasso ahora en ridge e inclusive agrega otros como 100 o 1000 y observa que a diferencia de lo que vimos con lasso, en ridge no se hace exactamente cero uno de los pesos antes que los demás.\n",
        "\n",
        "NOTA: Aunque sabemos que en la vida real los datos no se comportan como en este ejercicio, el ejercicio nos ayuda a entender sus comportamientos generales.\n"
      ],
      "metadata": {
        "id": "3gqTkTtLDOOT"
      }
    },
    {
      "cell_type": "markdown",
      "source": [
        "###**Visualicemos algunos de los resultados**"
      ],
      "metadata": {
        "id": "xdFdFM9yrrQf"
      }
    },
    {
      "cell_type": "code",
      "source": [
        "plt.scatter(x1, np.ravel(yreal), marker='^', label='real')  \n",
        "\n",
        "plt.scatter(x1, np.ravel(yhat0), marker='_', label='LR')  \n",
        "plt.scatter(x1, np.ravel(yhat1), marker='o', label='lasso')  \n",
        "plt.scatter(x1, np.ravel(yhat2), marker='d', label='ridge')  \n",
        "plt.scatter(x1, np.ravel(yhat12), marker='*', label='e-net')\n",
        "\n",
        "plt.legend(loc=2)\n",
        "plt.show()"
      ],
      "metadata": {
        "colab": {
          "base_uri": "https://localhost:8080/",
          "height": 265
        },
        "id": "cPnwzMlytwTQ",
        "outputId": "ac8a88f0-1116-4bb0-e034-314a6be54222"
      },
      "execution_count": 7,
      "outputs": [
        {
          "output_type": "display_data",
          "data": {
            "text/plain": [
              "<Figure size 432x288 with 1 Axes>"
            ],
            "image/png": "[encoded data removed]"
          },
          "metadata": {
            "needs_background": "light"
          }
        }
      ]
    },
    {
      "cell_type": "markdown",
      "source": [
        "Del gráfico anterior, del caso con $\\alpha=30$ en lasso y ridge, podemos hacer algunas observaciones generales:\n",
        "\n",
        "*   En general el modelo sin regularización tiende a querer parecerse lo más rápido posible a los datos reales observados. Si existe una gran cantidad de valores extremos (outliers), esto aumentará la varianza de las predicciones generadas con el modelo obtenido.\n",
        "*   El modelo con las predicciones más cercanas a los datos observados reales tiene los coeficientes mayores en magnitud.\n",
        "*   Observamos que las predicciones del modelo lasso siguen siendo bastante análogas a las de ridge y elastic-net, aún cuando uno de sus coeficientes es igual a cero. Como se mencionó previamente, lasso trata de reducir la cantidad de factores de entrada o dimensionalidad, quedándose con las más representativas y sin sacrificar demasiado el desempeño del modelo.\n",
        "*   Los modelos con regularización generan modelos más \"moderados\" que posteriormente permiten obtener mejores predicciones para los valores reales nuevos, sobre todo cuando existe una buena cantidad de valores extremos (outliers). En este ejemplo en particular que no tenemos valores extremos muy marcados, vemos que los métodos con regularización penalizaron demasiado a todos estos modelos de manera negativa, ya que se alejaron demasiado de los valores reales. \n",
        "\n"
      ],
      "metadata": {
        "id": "5VJ9wghar_f5"
      }
    },
    {
      "cell_type": "markdown",
      "source": [
        "#**Parte - 2: Caso aprobación de tarjetas de crédito** "
      ],
      "metadata": {
        "id": "mCfyqfF2yCYN"
      }
    },
    {
      "cell_type": "markdown",
      "source": [
        "La asignación o rechazo a la solicitud de un crédito a un banco o institución financiera es uno de los problemas más estudiados por su complejidad y relevancia. Existe una gran cantidad de artículos de investigación al respecto. Debido a lo delicado de la información que ahí se analiza no es fácil encontrar bases de datos abiertas con las cuales se puedan estar realizando estudios. Sin embargo, en particular el conjunto de datos conocido como \"Australian credit approval\" es una de las pocas en el tema y que podemos encontrar en el repositorio de la UCI en la siguiente liga:\n",
        "\n",
        "https://archive.ics.uci.edu/ml/datasets/Statlog+%28Australian+Credit+Approval%29\n",
        "\n",
        "El objetivo es determinar si se autoriza una tarjeta de crédito dada cierta información del solicitante.\n",
        "\n",
        "Revisa la información que se encuentra en la página anterior para que tengas mayor información sobre la naturaleza de los datos y del problema. \n"
      ],
      "metadata": {
        "id": "IlOMZhdJvJ59"
      }
    },
    {
      "cell_type": "code",
      "source": [
        "import numpy as np\n",
        "import pandas as pd\n",
        "import seaborn as sns \n",
        "import matplotlib.pyplot as plt \n",
        "\n",
        "from sklearn.model_selection import train_test_split\n",
        "\n",
        "from sklearn.pipeline import Pipeline\n",
        "from sklearn.compose import ColumnTransformer\n",
        "\n",
        "from sklearn.impute import SimpleImputer\n",
        "from sklearn.preprocessing import MinMaxScaler, OneHotEncoder\n",
        "\n",
        "from sklearn.linear_model import LogisticRegression\n",
        "from sklearn.tree import DecisionTreeClassifier\n",
        "from sklearn.neural_network import MLPClassifier\n",
        "from sklearn.neighbors import KNeighborsClassifier\n",
        "from sklearn.svm import SVC\n",
        "\n",
        "from sklearn.model_selection import cross_val_score\n",
        "from sklearn.model_selection import RepeatedStratifiedKFold"
      ],
      "metadata": {
        "id": "vN-DVyD6rLtb"
      },
      "execution_count": 8,
      "outputs": []
    },
    {
      "cell_type": "code",
      "source": [
        "mypath = \"https://archive.ics.uci.edu/ml/machine-learning-databases/statlog/australian/australian.dat\"\n",
        "\n",
        "data = pd.read_csv(mypath, sep=\" \", header=None)\n",
        "\n",
        "data.columns = ['A1','A2','A3','A4','A5','A6','A7','A8','A9','A10','A11','A12','A13','A14','class']\n",
        "\n",
        "print(data.shape)\n",
        "data.head()"
      ],
      "metadata": {
        "colab": {
          "base_uri": "https://localhost:8080/",
          "height": 223
        },
        "id": "dUXCreKYy_pD",
        "outputId": "9ea30f79-ac66-4fd4-d756-1f69f1e3d61c"
      },
      "execution_count": 9,
      "outputs": [
        {
          "output_type": "stream",
          "name": "stdout",
          "text": [
            "(690, 15)\n"
          ]
        },
        {
          "output_type": "execute_result",
          "data": {
            "text/plain": [
              "   A1     A2     A3  A4  A5  A6     A7  A8  A9  A10  A11  A12  A13   A14  \\\n",
              "0   1  22.08  11.46   2   4   4  1.585   0   0    0    1    2  100  1213   \n",
              "1   0  22.67   7.00   2   8   4  0.165   0   0    0    0    2  160     1   \n",
              "2   0  29.58   1.75   1   4   4  1.250   0   0    0    1    2  280     1   \n",
              "3   0  21.67  11.50   1   5   3  0.000   1   1   11    1    2    0     1   \n",
              "4   1  20.17   8.17   2   6   4  1.960   1   1   14    0    2   60   159   \n",
              "\n",
              "   class  \n",
              "0      0  \n",
              "1      0  \n",
              "2      0  \n",
              "3      1  \n",
              "4      1  "
            ],
            "text/html": [
              "\n",
              "  <div id=\"df-765b3da3-6756-4c4e-b137-bbc2e8056283\">\n",
              "    <div class=\"colab-df-container\">\n",
              "      <div>\n",
              "<style scoped>\n",
              "    .dataframe tbody tr th:only-of-type {\n",
              "        vertical-align: middle;\n",
              "    }\n",
              "\n",
              "    .dataframe tbody tr th {\n",
              "        vertical-align: top;\n",
              "    }\n",
              "\n",
              "    .dataframe thead th {\n",
              "        text-align: right;\n",
              "    }\n",
              "</style>\n",
              "<table border=\"1\" class=\"dataframe\">\n",
              "  <thead>\n",
              "    <tr style=\"text-align: right;\">\n",
              "      <th></th>\n",
              "      <th>A1</th>\n",
              "      <th>A2</th>\n",
              "      <th>A3</th>\n",
              "      <th>A4</th>\n",
              "      <th>A5</th>\n",
              "      <th>A6</th>\n",
              "      <th>A7</th>\n",
              "      <th>A8</th>\n",
              "      <th>A9</th>\n",
              "      <th>A10</th>\n",
              "      <th>A11</th>\n",
              "      <th>A12</th>\n",
              "      <th>A13</th>\n",
              "      <th>A14</th>\n",
              "      <th>class</th>\n",
              "    </tr>\n",
              "  </thead>\n",
              "  <tbody>\n",
              "    <tr>\n",
              "      <th>0</th>\n",
              "      <td>1</td>\n",
              "      <td>22.08</td>\n",
              "      <td>11.46</td>\n",
              "      <td>2</td>\n",
              "      <td>4</td>\n",
              "      <td>4</td>\n",
              "      <td>1.585</td>\n",
              "      <td>0</td>\n",
              "      <td>0</td>\n",
              "      <td>0</td>\n",
              "      <td>1</td>\n",
              "      <td>2</td>\n",
              "      <td>100</td>\n",
              "      <td>1213</td>\n",
              "      <td>0</td>\n",
              "    </tr>\n",
              "    <tr>\n",
              "      <th>1</th>\n",
              "      <td>0</td>\n",
              "      <td>22.67</td>\n",
              "      <td>7.00</td>\n",
              "      <td>2</td>\n",
              "      <td>8</td>\n",
              "      <td>4</td>\n",
              "      <td>0.165</td>\n",
              "      <td>0</td>\n",
              "      <td>0</td>\n",
              "      <td>0</td>\n",
              "      <td>0</td>\n",
              "      <td>2</td>\n",
              "      <td>160</td>\n",
              "      <td>1</td>\n",
              "      <td>0</td>\n",
              "    </tr>\n",
              "    <tr>\n",
              "      <th>2</th>\n",
              "      <td>0</td>\n",
              "      <td>29.58</td>\n",
              "      <td>1.75</td>\n",
              "      <td>1</td>\n",
              "      <td>4</td>\n",
              "      <td>4</td>\n",
              "      <td>1.250</td>\n",
              "      <td>0</td>\n",
              "      <td>0</td>\n",
              "      <td>0</td>\n",
              "      <td>1</td>\n",
              "      <td>2</td>\n",
              "      <td>280</td>\n",
              "      <td>1</td>\n",
              "      <td>0</td>\n",
              "    </tr>\n",
              "    <tr>\n",
              "      <th>3</th>\n",
              "      <td>0</td>\n",
              "      <td>21.67</td>\n",
              "      <td>11.50</td>\n",
              "      <td>1</td>\n",
              "      <td>5</td>\n",
              "      <td>3</td>\n",
              "      <td>0.000</td>\n",
              "      <td>1</td>\n",
              "      <td>1</td>\n",
              "      <td>11</td>\n",
              "      <td>1</td>\n",
              "      <td>2</td>\n",
              "      <td>0</td>\n",
              "      <td>1</td>\n",
              "      <td>1</td>\n",
              "    </tr>\n",
              "    <tr>\n",
              "      <th>4</th>\n",
              "      <td>1</td>\n",
              "      <td>20.17</td>\n",
              "      <td>8.17</td>\n",
              "      <td>2</td>\n",
              "      <td>6</td>\n",
              "      <td>4</td>\n",
              "      <td>1.960</td>\n",
              "      <td>1</td>\n",
              "      <td>1</td>\n",
              "      <td>14</td>\n",
              "      <td>0</td>\n",
              "      <td>2</td>\n",
              "      <td>60</td>\n",
              "      <td>159</td>\n",
              "      <td>1</td>\n",
              "    </tr>\n",
              "  </tbody>\n",
              "</table>\n",
              "</div>\n",
              "      <button class=\"colab-df-convert\" onclick=\"convertToInteractive('df-765b3da3-6756-4c4e-b137-bbc2e8056283')\"\n",
              "              title=\"Convert this dataframe to an interactive table.\"\n",
              "              style=\"display:none;\">\n",
              "        \n",
              "  <svg xmlns=\"http://www.w3.org/2000/svg\" height=\"24px\"viewBox=\"0 0 24 24\"\n",
              "       width=\"24px\">\n",
              "    <path d=\"M0 0h24v24H0V0z\" fill=\"none\"/>\n",
              "    <path d=\"M18.56 5.44l.94 2.06.94-2.06 2.06-.94-2.06-.94-.94-2.06-.94 2.06-2.06.94zm-11 1L8.5 8.5l.94-2.06 2.06-.94-2.06-.94L8.5 2.5l-.94 2.06-2.06.94zm10 10l.94 2.06.94-2.06 2.06-.94-2.06-.94-.94-2.06-.94 2.06-2.06.94z\"/><path d=\"M17.41 7.96l-1.37-1.37c-.4-.4-.92-.59-1.43-.59-.52 0-1.04.2-1.43.59L10.3 9.45l-7.72 7.72c-.78.78-.78 2.05 0 2.83L4 21.41c.39.39.9.59 1.41.59.51 0 1.02-.2 1.41-.59l7.78-7.78 2.81-2.81c.8-.78.8-2.07 0-2.86zM5.41 20L4 18.59l7.72-7.72 1.47 1.35L5.41 20z\"/>\n",
              "  </svg>\n",
              "      </button>\n",
              "      \n",
              "  <style>\n",
              "    .colab-df-container {\n",
              "      display:flex;\n",
              "      flex-wrap:wrap;\n",
              "      gap: 12px;\n",
              "    }\n",
              "\n",
              "    .colab-df-convert {\n",
              "      background-color: #E8F0FE;\n",
              "      border: none;\n",
              "      border-radius: 50%;\n",
              "      cursor: pointer;\n",
              "      display: none;\n",
              "      fill: #1967D2;\n",
              "      height: 32px;\n",
              "      padding: 0 0 0 0;\n",
              "      width: 32px;\n",
              "    }\n",
              "\n",
              "    .colab-df-convert:hover {\n",
              "      background-color: #E2EBFA;\n",
              "      box-shadow: 0px 1px 2px rgba(60, 64, 67, 0.3), 0px 1px 3px 1px rgba(60, 64, 67, 0.15);\n",
              "      fill: #174EA6;\n",
              "    }\n",
              "\n",
              "    [theme=dark] .colab-df-convert {\n",
              "      background-color: #3B4455;\n",
              "      fill: #D2E3FC;\n",
              "    }\n",
              "\n",
              "    [theme=dark] .colab-df-convert:hover {\n",
              "      background-color: #434B5C;\n",
              "      box-shadow: 0px 1px 3px 1px rgba(0, 0, 0, 0.15);\n",
              "      filter: drop-shadow(0px 1px 2px rgba(0, 0, 0, 0.3));\n",
              "      fill: #FFFFFF;\n",
              "    }\n",
              "  </style>\n",
              "\n",
              "      <script>\n",
              "        const buttonEl =\n",
              "          document.querySelector('#df-765b3da3-6756-4c4e-b137-bbc2e8056283 button.colab-df-convert');\n",
              "        buttonEl.style.display =\n",
              "          google.colab.kernel.accessAllowed ? 'block' : 'none';\n",
              "\n",
              "        async function convertToInteractive(key) {\n",
              "          const element = document.querySelector('#df-765b3da3-6756-4c4e-b137-bbc2e8056283');\n",
              "          const dataTable =\n",
              "            await google.colab.kernel.invokeFunction('convertToInteractive',\n",
              "                                                     [key], {});\n",
              "          if (!dataTable) return;\n",
              "\n",
              "          const docLinkHtml = 'Like what you see? Visit the ' +\n",
              "            '<a target=\"_blank\" href=https://colab.research.google.com/notebooks/data_table.ipynb>data table notebook</a>'\n",
              "            + ' to learn more about interactive tables.';\n",
              "          element.innerHTML = '';\n",
              "          dataTable['output_type'] = 'display_data';\n",
              "          await google.colab.output.renderOutput(dataTable, element);\n",
              "          const docLink = document.createElement('div');\n",
              "          docLink.innerHTML = docLinkHtml;\n",
              "          element.appendChild(docLink);\n",
              "        }\n",
              "      </script>\n",
              "    </div>\n",
              "  </div>\n",
              "  "
            ]
          },
          "metadata": {},
          "execution_count": 9
        }
      ]
    },
    {
      "cell_type": "markdown",
      "source": [
        "###**Variables Categóricas y Numéricas**\n",
        "\n",
        "Los nombres de las variables fueron eliminados para cuidar la privacidad de los solicitantes, sin embargo se informa que de las 14 variables de entrada, 8 son categóricas y 6 numéricas.  \n",
        "\n",
        "La última columna es la variable binaria de salida que nos dice si la tarjeta de crédito se autorizó (1) o no se autorizó (0).\n",
        "\n",
        "De acuerdo a la información de la página de la UCI las siguientes 8 variables de entrada son las categóricas:\n",
        "\n",
        "A1 (binaria), A4 (3 niveles), A5 (14 niveles), A6 (9 niveles), A8 (binaria), A9 (binaria), A11 (binaria), A12 (3 niveles).\n",
        "\n",
        "El resto de las 6 variables de entrada las definen como numéricas continuas: \n",
        "\n",
        "A2,  A3,  A7,  A10,  A13,  A14.\n",
        "\n",
        "Con el fin de simplificar el análisis de preparación de los datos adelantamos que varios de los niveles de las variables categóricas tienen muy bajas frecuencias. Algunos tienen por ejemplo 1 solo registro, lo cual hace imposible el querer inferir algo sobre dicho nivel. Por ello agruparemos a continuación algunos de los niveles más bajos bajo el criterio de que al menos cada nivel en cada factor tenga al menos un 5% de información. Existen varias reglas empíricas sobre esta cantidad mínima en cada nivel y la del 5% es una de las más comunes, así que es la que seguiremos en este ejemplo. \n",
        "\n",
        "Aplicaremos la transformación map() de Python para llevar a cabo la agrupación de los niveles de menor frecuencia indicadas mediante un diccionario. En la notación a:b, el entero \"a\" es sustituido por \"b\", como se indica a continuación. \n",
        "\n",
        "Estaremos asignando y agrupando a un mismo nivel 0 a todos aquellos niveles de baja frecuencia.\n",
        "\n"
      ],
      "metadata": {
        "id": "qqvSevM6zRUU"
      }
    },
    {
      "cell_type": "code",
      "source": [
        "# Por ejemplo, veamos cómo se distribuyen los niveles en el caso del factor A4:\n",
        "\n",
        "data['A4'].value_counts()"
      ],
      "metadata": {
        "colab": {
          "base_uri": "https://localhost:8080/"
        },
        "id": "pYVv41cZPZ9f",
        "outputId": "7f5a7603-9f26-44d9-ceee-3d1b2e6318f8"
      },
      "execution_count": 10,
      "outputs": [
        {
          "output_type": "execute_result",
          "data": {
            "text/plain": [
              "2    525\n",
              "1    163\n",
              "3      2\n",
              "Name: A4, dtype: int64"
            ]
          },
          "metadata": {},
          "execution_count": 10
        }
      ]
    },
    {
      "cell_type": "markdown",
      "source": [
        "Lleva a cabo la inspección de los demás factores categóricos:"
      ],
      "metadata": {
        "id": "HTr1p8_IQLjI"
      }
    },
    {
      "cell_type": "code",
      "source": [
        "data['A4'] = data['A4'].map({2:2, 1:0, 3:0})\n",
        "data['A5'] = data['A5'].map({1:1,2:0,3:3,4:4,5:0,6:6,7:7,8:8,9:9,10:0,11:11,12:0,13:13,14:14})\n",
        "data['A6'] = data['A6'].map({1:1,2:0,3:0,4:4,5:5,7:0,8:8,9:0})"
      ],
      "metadata": {
        "id": "J_Amy2UA4sjL"
      },
      "execution_count": 11,
      "outputs": []
    },
    {
      "cell_type": "code",
      "source": [
        "# Ahora sí, definamos nuestras variables de entrada y de salida, observa que ambas son DataFrames de Pandas:\n",
        "\n",
        "X = data.iloc[:,:-1]  \n",
        "\n",
        "Y = data.iloc[:,-1]     # También puede ser: data[['class']]     "
      ],
      "metadata": {
        "id": "ftMxtlhy78RI"
      },
      "execution_count": 12,
      "outputs": []
    },
    {
      "cell_type": "markdown",
      "source": [
        "Consideraremos un $20\\%$ de datos en el conjunto de prueba y dejaremos el resto, $80\\%$, para utilizar en validación-cruzada."
      ],
      "metadata": {
        "id": "GR1GCB2Ra-lV"
      }
    },
    {
      "cell_type": "code",
      "source": [
        "Xtv, Xtest, ytv, ytest = train_test_split(X, Y, test_size=0.2, stratify=Y, random_state=1)  \n",
        "\n",
        "print(Xtv.shape, ': dimensión de datos de entrada para entrenamiento y validación')\n",
        "print(Xtest.shape, ': dimensión de datos de entrada para prueba')  \n",
        "\n",
        "print(ytv.shape, ': dimensión de variable de salida para entrenamiento y validación')\n",
        "print(ytest.shape, ': dimensión de variable de salida para prueba')"
      ],
      "metadata": {
        "colab": {
          "base_uri": "https://localhost:8080/"
        },
        "id": "HJ2lIDs68bc_",
        "outputId": "48e6c238-b3fc-4cc3-c751-ca8c21f1580b"
      },
      "execution_count": 13,
      "outputs": [
        {
          "output_type": "stream",
          "name": "stdout",
          "text": [
            "(552, 14) : dimensión de datos de entrada para entrenamiento y validación\n",
            "(138, 14) : dimensión de datos de entrada para prueba\n",
            "(552,) : dimensión de variable de salida para entrenamiento y validación\n",
            "(138,) : dimensión de variable de salida para prueba\n"
          ]
        }
      ]
    },
    {
      "cell_type": "markdown",
      "source": [
        "El argumento \"stratify=Y\" permite generar las particiones conservando el mismo porcentaje de cada clase en cada subconjunto. Otra manera de interpretar el uso de este argumento es decir que la distribución de las clases del conjunto de entrenamiento utilizado para generar el modelo, será la misma que la distribución de las clases que tendrán los datos en la vida real.   \n",
        "\n",
        "Solo para verificar que no estamos con un problema de clases desbalanceadas, problema que abordaremos en semanas más adelante, obtengamos el porcentaje de datos en cada clase de la variable de salida. Esto lo podemos obtener sumando los casos positivos (1) y dividéndolos por el total de registros:\n",
        "\n"
      ],
      "metadata": {
        "id": "4P-78VYsORNF"
      }
    },
    {
      "cell_type": "code",
      "source": [
        "ytv.sum() / ytv.shape[0]"
      ],
      "metadata": {
        "colab": {
          "base_uri": "https://localhost:8080/"
        },
        "id": "RPBJWyNENsj-",
        "outputId": "becb16f2-276e-42ed-c4a3-c9c332fe0811"
      },
      "execution_count": 14,
      "outputs": [
        {
          "output_type": "execute_result",
          "data": {
            "text/plain": [
              "0.44565217391304346"
            ]
          },
          "metadata": {},
          "execution_count": 14
        }
      ]
    },
    {
      "cell_type": "markdown",
      "source": [
        "Tenemos así que las clases de créditos aprobados (1) y no aprobados (0) están distribuidos en un $44.5\\%$ y $55.5\\%$, respectivamente. Esto nos dice que podemos considerarlo como un problema de clases balanceadas, que para el caso biclase teóricamente debe ser del $50\\%$ cada uno.\n",
        "\n",
        "**NOTA:** Habrás observado que en este último paso utilizamos información de los datos de validación junto con los de entrenamiento, e inclusive al utilizar el argumento \"stratify=Y\" en la función \"train_test_split\", estamos utilizando también información de todo el conjunto de datos de la variable de salida para determinar el porcentaje de cada clase, lo cual estricamente lleva a un problema de filtración de información. Sin embargo, tomando en cuenta que las particiones son aleatorizadas, podemos simplificar los procesos y suponer que los porcentajes en cada caso serán relativamente muy parecidos. Además, como vamos a utilizar validación-cruzada, lo cual modifica en cada partición los conjuntos de entrenamiento y validación, habría que calcular el porcentaje de cada clase en cada partición solamente usando los datos de entrenamiento y luego promediarlos, es lo correcto, pero en general no se hace así ya que las diferencias son despreciables si se hace de manera aleatorizada. Aquí es donde también entra el criterio de un buen científico de datos para saber tomar decisiones que aunque a veces no son cien por ciento como dice la teoría, son lo suficientemente acertadas para saber que las diferencias obtenidas son despreciables. "
      ],
      "metadata": {
        "id": "UTqExGzkdJJf"
      }
    },
    {
      "cell_type": "code",
      "source": [
        "# Transformaciones a factores numéricos de entrada:\n",
        "num_pipeline = Pipeline(steps = [('impMediana', SimpleImputer(strategy='median')),\n",
        "                                 ('escalaNum', MinMaxScaler(feature_range=(1,2)))])   \n",
        "num_pipeline_nombres = ['A2','A3','A7','A10','A13','A14']\n",
        "\n",
        "# Transformaciones a factores categóricos de entrada:\n",
        "catImp_pipeline = Pipeline(steps = [('impModa', SimpleImputer(strategy='most_frequent'))])  \n",
        "catImp_pipeline_nombres = ['A1', 'A4', 'A5', 'A6', 'A8', 'A9', 'A11', 'A12']\n",
        "\n",
        "catOHE_pipeline = Pipeline(steps = [('OneHotE', OneHotEncoder(drop='first'))])\n",
        "catOHE_pipeline_nombres = [ 'A4','A5','A6','A12']\n",
        "\n",
        "\n",
        "# Conjuntamos las transformaciones numéricas y categóricas que se estarán aplicando a los datos de entrada:\n",
        "columnasTransformer = ColumnTransformer(transformers = [('numpipe', num_pipeline, num_pipeline_nombres),\n",
        "                                                        ('catimp', catImp_pipeline, catImp_pipeline_nombres),\n",
        "                                                        ('catohe', catOHE_pipeline, catOHE_pipeline_nombres)],\n",
        "                                        remainder='passthrough')"
      ],
      "metadata": {
        "id": "HMY7jcEi97BX"
      },
      "execution_count": 15,
      "outputs": []
    },
    {
      "cell_type": "markdown",
      "source": [
        "Más adelante estaremos estudiando los modelos que se muestran a continuación. Por el momento veámoslos simplemente como métodos de aprendizaje supervisado los cuales estamos comparando para ver cuál nos ayuda a predecir mejor la autorización o no de las tarjetas de crédito.\n",
        "\n",
        "Observa que estaremos concatenando los modelos y sus nombres en dos listas diferentes, para posteriormente llevar a cabo el entrenamiento de cada uno de ellos de manera secuensial. \n",
        "\n",
        "Recuerda que una manera general de empezar a abordar un problema en el área de aprendizaje automático es partiendo del entrenamiento de varios modelos diferentes con sus valores de agrumentos predeterminados para una primera comparación. Sin embargo, con el fin de evitar errores posteriores de no convergencia estamos modificando ligeramente algunos de ellos como se muestran a continuación. \n",
        "\n",
        "Puedes ir revisando la documentación de cada uno de estos métodos en scikit-learn. "
      ],
      "metadata": {
        "id": "uPazkO0WAPH1"
      }
    },
    {
      "cell_type": "code",
      "source": [
        "def get_models():\n",
        "  modelos = list()\n",
        "  nombres = list()\n",
        "\n",
        "  # LR - Regresión Logística:\n",
        "  modelos.append(LogisticRegression(solver='liblinear'))\n",
        "  nombres.append('LR')\n",
        "\n",
        "  # DT - Árbol de Decisión:\n",
        "  modelos.append(DecisionTreeClassifier())\n",
        "  nombres.append('DT')\n",
        "  \n",
        "  # MLP - Red Neuronal Artificial / Perceptrón Lineal Multicapa:  \n",
        "  modelos.append(MLPClassifier(hidden_layer_sizes=(30,), max_iter=3000))\n",
        "  nombres.append('MLP')\n",
        "  \n",
        "  # SVM - Máquina de Vector Soporte:\n",
        "  modelos.append(SVC(gamma='scale'))\n",
        "  nombres.append('SVM')\n",
        "\n",
        "  # kNN - k-Vecinos más cercanos:\n",
        "  modelos.append(KNeighborsClassifier())\n",
        "  nombres.append('kNN')\n",
        "  \n",
        "  return modelos, nombres"
      ],
      "metadata": {
        "id": "YTj86cd3_l_r"
      },
      "execution_count": 16,
      "outputs": []
    },
    {
      "cell_type": "markdown",
      "source": [
        "Llevamos a cabo el entrenamiento usando el Pipeline para la transformación de los datos y que nos ayuda a evitar el filtrado de información de los datos entre los conjuntos de validación y prueba. \n",
        "\n",
        "Usaremos validación-cruzada (cross-validation, CV) con su variante de repetir el proceso además varias veces (nosotros lo haremos 3 veces) y donde las particiones se generan estratificadas, para respetar en lo posible la distribución de las clases en cada partición del CV. Revisa la siguiente liga de su documentación:\n",
        "\n",
        "https://scikit-learn.org/stable/modules/generated/sklearn.model_selection.RepeatedStratifiedKFold.html"
      ],
      "metadata": {
        "id": "IooOOrPXIIWk"
      }
    },
    {
      "cell_type": "code",
      "source": [
        "modelos, nombres = get_models()  # cargamos los modelos a comparar\n",
        "resultados = list()   \n",
        "\n",
        "for i in range(len(modelos)):\n",
        "\n",
        "  pipeline = Pipeline(steps=[('ct',columnasTransformer),('m',modelos[i])])\n",
        "\n",
        "  cv = RepeatedStratifiedKFold(n_splits=10, n_repeats=3, random_state=0)\n",
        "  scores = cross_val_score(pipeline, Xtv, np.ravel(ytv), scoring='accuracy', cv=cv)\n",
        "\n",
        "\n",
        "  resultados.append(scores)\n",
        "  print('>> %s: %.3f (%.3f)' % (nombres[i], np.mean(scores), np.std(scores)))"
      ],
      "metadata": {
        "colab": {
          "base_uri": "https://localhost:8080/"
        },
        "id": "nWaZ-tc3DXPE",
        "outputId": "a6e92f27-80c6-4b2d-872d-8628713af559"
      },
      "execution_count": 17,
      "outputs": [
        {
          "output_type": "stream",
          "name": "stdout",
          "text": [
            ">> LR: 0.861 (0.039)\n",
            ">> DT: 0.818 (0.058)\n",
            ">> MLP: 0.840 (0.038)\n",
            ">> SVM: 0.850 (0.041)\n",
            ">> kNN: 0.791 (0.040)\n"
          ]
        }
      ]
    },
    {
      "cell_type": "markdown",
      "source": [
        "Observamos que el modelo de regresión logística es el obtiene el mejor desempeño promedio con respecto a la métrica de exactitud (accuracy). Entre paréntesis se muestra la desviación estándar de cada resultado.\n",
        "\n",
        "Mostremos también sus diagramas de caja y bigotes para visualizar mejor la variabilidad de cada resultado:"
      ],
      "metadata": {
        "id": "0PWWAsPvJrrK"
      }
    },
    {
      "cell_type": "code",
      "source": [
        "plt.boxplot(resultados, labels=nombres, showmeans=True)\n",
        "plt.show()"
      ],
      "metadata": {
        "colab": {
          "base_uri": "https://localhost:8080/",
          "height": 265
        },
        "id": "eSMdq9PPeIzc",
        "outputId": "b0f9f040-85af-4400-9e2b-baf6aa14c512"
      },
      "execution_count": 18,
      "outputs": [
        {
          "output_type": "display_data",
          "data": {
            "text/plain": [
              "<Figure size 432x288 with 1 Axes>"
            ],
            "image/png": "[encoded data removed]"
          },
          "metadata": {
            "needs_background": "light"
          }
        }
      ]
    },
    {
      "cell_type": "markdown",
      "source": [
        "##**Regresión Logística con regularizaciones $L_1$ y $L_2$:**\n",
        "\n",
        "Ya que la regresión logística fue la de mejor desempeño en cuanto a promedio en el entrenamiento anterior, realicemos un nuevo entrenamiento aplicando ahora las técnicas de regularización. Lo haremos de manera análoga a como procedimos anteriormente. Sin embargo, ahora usaremos los argumentos de la función LogisticRegression de scikit-learn para implementar cada uno de los casos de regularización. Esto simplemente para mostrar las diversas formas que en general se puede llegar a implementar un mismo proceso. Posiblemente no se obtenga exactamente el mismo resultado usando ambos casos, pero se esperaría que fueran aproximadamente análogos.\n",
        "\n",
        "En este caso debes revisar la documentación para ver cuáles argumentos son adecuados en cada método de regularización ya que no todas las combinaciones son posibles, generando errores de ejecución en algunas de ellas. Para evitarlo revisa la liga de la documentación correspondiente:\n",
        "\n",
        "https://scikit-learn.org/stable/modules/generated/sklearn.linear_model.LogisticRegression.html \n",
        "\n",
        "Y nuevamente se han modificado algunos de los valores predeterminados en algunos de ellos para que cada uno converja durante el proceso de entrenamiento."
      ],
      "metadata": {
        "id": "Fe87BYvvJ355"
      }
    },
    {
      "cell_type": "code",
      "source": [
        "#from pandas.core.common import random_state\n",
        "\n",
        "def get_modelsRegs():\n",
        "  modelos, nombres = list(), list()\n",
        "\n",
        "  # LR - sin regularización:\n",
        "  modelos.append(LogisticRegression(penalty='none', solver='lbfgs', max_iter=2000, random_state=1))\n",
        "  nombres.append('LR')\n",
        "\n",
        "  # Lasso:\n",
        "  modelos.append(LogisticRegression(penalty='l1', solver='liblinear', max_iter=2000, C=1., random_state=1))\n",
        "  nombres.append('LASSO')\n",
        "  \n",
        "  # Ridge:\n",
        "  modelos.append(LogisticRegression(penalty='l2', solver='liblinear', max_iter=2000, C=10.01, random_state=1))\n",
        "  nombres.append('RIDGE')\n",
        "  \n",
        "  # Elastic-Net:\n",
        "  modelos.append(LogisticRegression(penalty='elasticnet', l1_ratio=0.5, solver='saga', max_iter=4000, C=1., random_state=1))\n",
        "  nombres.append('EN')\n",
        "\n",
        "  return modelos, nombres"
      ],
      "metadata": {
        "id": "wEaQEjEiK_Kz"
      },
      "execution_count": 19,
      "outputs": []
    },
    {
      "cell_type": "code",
      "source": [
        "modelos, nombres = get_modelsRegs()\n",
        "resultados = list() \n",
        "\n",
        "for i in range(len(modelos)):\n",
        "\n",
        "  pipeline = Pipeline(steps=[('ct',columnasTransformer),('m',modelos[i])])\n",
        "\n",
        "  cv = RepeatedStratifiedKFold(n_splits=10, n_repeats=5, random_state=8)\n",
        "  scores = cross_val_score(pipeline, Xtv, np.ravel(ytv), scoring='accuracy', cv=cv)\n",
        "\n",
        "  resultados.append(scores)\n",
        "  print('>> %s %.3f (%.3f)' % (nombres[i], np.mean(scores), np.std(scores)))\n",
        "\n",
        "\n",
        "plt.boxplot(resultados, labels=nombres, showmeans=True)\n",
        "plt.show()"
      ],
      "metadata": {
        "colab": {
          "base_uri": "https://localhost:8080/",
          "height": 334
        },
        "id": "QvTCiEfkMdle",
        "outputId": "2e01bba5-fa2c-437b-e2b4-23ba08b0008b"
      },
      "execution_count": 20,
      "outputs": [
        {
          "output_type": "stream",
          "name": "stdout",
          "text": [
            ">> LR 0.868 (0.050)\n",
            ">> LASSO 0.867 (0.046)\n",
            ">> RIDGE 0.869 (0.048)\n",
            ">> EN 0.863 (0.048)\n"
          ]
        },
        {
          "output_type": "display_data",
          "data": {
            "text/plain": [
              "<Figure size 432x288 with 1 Axes>"
            ],
            "image/png": "[encoded data removed]"
          },
          "metadata": {
            "needs_background": "light"
          }
        }
      ]
    },
    {
      "cell_type": "markdown",
      "source": [
        "###**Actividad-comentario en Canvas:**\n",
        "\n",
        "###**Con base a la exactitud y desviación estándar de cada modelo mostrados en los resultados anteriores, ¿qué puedes decir del modelo generado? ¿Ayudan en este caso el uso de las técnicas de regularización para obtener un mejor modelo? ¿Podríamos considerar las diferencias mostradas entre ellos suficientes como para hablar de que uno de ellos es mejor que los otros?** \n",
        "\n",
        "###**Realiza ajustes a los argumentos de algunos de los modelos y observa si puedes obtener un mejor resultado, al menos en cuanto a su promedio general.**\n",
        "\n",
        "###**¿Qué podrías concluir al respecto?**\n",
        "\n",
        "###**¿Se obtuvo un un buen ajuste en alguno de los modelos?**\n",
        "\n",
        "###**¿Están subentrenados?**\n",
        "\n",
        "###**¿Están sobreentrenados?**\n",
        "\n",
        "###**¿Qué otra información necesitarías para responder estas preguntas?**"
      ],
      "metadata": {
        "id": "D7pRZOwgNKNj"
      }
    },
    {
      "cell_type": "markdown",
      "source": [
        "##**Llevando a cabo el mejor ajuste (fine tuning)**\n",
        "\n",
        "Observamos que aunque de manera mínima se obtuvo que el modelo de regresión logística con regularización ridge $L_2$ fue el más alto, así que a manera de ejemplo continuemos con el ejercicio para mostrar la manera de encontrar una mejor configuración de los hiperparámetros mediante la llamada búsqueda por malla (grid search en inglés). \n",
        "\n",
        "Recuerda revisar la documentación correspondiente cada vez que uses un nuevo método o función, en particular revisa las siguientes dos que utilizaremos a continuación:\n",
        "\n",
        "https://scikit-learn.org/stable/modules/generated/sklearn.model_selection.GridSearchCV.html\n",
        "\n",
        "https://scikit-learn.org/stable/modules/generated/sklearn.metrics.confusion_matrix.html"
      ],
      "metadata": {
        "id": "_8uZ9wJgNUwb"
      }
    },
    {
      "cell_type": "code",
      "source": [
        "from sklearn.model_selection import GridSearchCV\n",
        "from sklearn.metrics import confusion_matrix"
      ],
      "metadata": {
        "id": "1ktA40R3NqUZ"
      },
      "execution_count": 21,
      "outputs": []
    },
    {
      "cell_type": "markdown",
      "source": [
        "Podemos realizar una búsqueda con varias opciones de los valores de algunos de los hiperparámetros y acelerar el proceso de búsqueda mediante el uso de las funciones llamados de malla, que probarán un conjunto de combinaciones durante un mismo proceso de entrenamiento. Si se tienen los recursos computacionales adecuados este timpo de entrenamiento puede ser paralelizable.\n",
        "\n",
        "Las diferentes opciones para cada parámetro seleccionado se indican a través de un diccionario. Los diccionarios son un tipo muy importante de estructura para colecciones de datos en un formato dado como \"clave:valor\". Si no conoces los diccionarios y no lo has trabajado dentro de Python, te recomendamos revisar primero la siguiente documentación al respecto, antes de seguir adelante:\n",
        "\n",
        "https://docs.python.org/3/tutorial/datastructures.html#dictionaries \n",
        "\n",
        "Ahora utilicemos un diccionario para indicar las diferentes opciones de valores que tomará cada argumento que hemos seleccionado para la función de regresión logística. Observa el formato \"clave:valor\" del diccionario \"dicc_grid\" definido a continuación, donde en particular para el modelo ridge las \"claves\" que estamos considerando son los métodos de optimización, indicados por \"solver\" y la constante \"C\" que rige el nivel de resticción de la métrica $L_2$ que se está aplicando."
      ],
      "metadata": {
        "id": "KJuJSEPzlHkZ"
      }
    },
    {
      "cell_type": "code",
      "source": [
        "# RIDGE - métrica L2:\n",
        "\n",
        "modelo = LogisticRegression(penalty='l2', max_iter=10000, random_state=1)\n",
        "\n",
        "dicc_grid = {'C':[0.0001,0.01,0.1,1.0,10.,100.],\n",
        "             'solver':['newton-cg','lbfgs','liblinear','sag','saga']\n",
        "             }\n",
        "\n",
        "cv = RepeatedStratifiedKFold(n_splits=10, n_repeats=5, random_state=8)\n",
        "\n",
        "grid = GridSearchCV(estimator=modelo, \n",
        "                    param_grid=dicc_grid, \n",
        "                    cv=cv, \n",
        "                    scoring='accuracy')\n"
      ],
      "metadata": {
        "id": "a-7Ma4XIhMmr"
      },
      "execution_count": 22,
      "outputs": []
    },
    {
      "cell_type": "code",
      "source": [
        "# Transformamos los datos de entrada:\n",
        "Xx = columnasTransformer.fit_transform(Xtv)\n",
        "\n",
        "# Llevamos a cabo el proceso de etrenamiento con validación-cruzada y búsqueda de malla.\n",
        "# Observa que de acuerdo a las opciones incluidas en la malla, se estarán realizando (6)(5)=30 \n",
        "# combinaciones diferentes, además de las (10)(5)=50 particiones de la validación-cruzada,\n",
        "# lo cual implica también un mayor tiempo de entrenamiento.\n",
        "\n",
        "grid.fit(Xx, np.ravel(ytv))\n",
        "\n",
        "print('Mejor valor de exactitud obtenido con la mejor combinación:', grid.best_score_)\n",
        "print('Mejor combinación de valores encontrados de los hiperparámetros:', grid.best_params_)\n",
        "print('Métrica utilizada:', grid.scoring)"
      ],
      "metadata": {
        "colab": {
          "base_uri": "https://localhost:8080/"
        },
        "id": "r-1p6YMahMiu",
        "outputId": "390a92f3-2cfb-4db2-c311-2298abd5a75d"
      },
      "execution_count": 23,
      "outputs": [
        {
          "output_type": "stream",
          "name": "stdout",
          "text": [
            "Mejor valor de exactitud obtenido con la mejor combinación: 0.8695389610389609\n",
            "Mejor combinación de valores encontrados de los hiperparámetros: {'C': 100.0, 'solver': 'liblinear'}\n",
            "Métrica utilizada: accuracy\n"
          ]
        }
      ]
    },
    {
      "cell_type": "markdown",
      "source": [
        "Obtenemos una mejoría mínima de aproximadamente un $0.05\\%$ en cuanto al promedio general de la exactitud, en relación con el valor de la regularización ridge que habíamos obtenido previamente.\n",
        "\n",
        "Puedes intentar modificar los valores de estos hiperparámetros alrededor de estos valores encontrados para ver si puedes incrementar aún más dicho valor promedio. En particular se podrían intentar valores alrededor de C=100."
      ],
      "metadata": {
        "id": "6yEeLwpQk2Gh"
      }
    },
    {
      "cell_type": "markdown",
      "source": [
        "##**Modelo Final con el conjunto de prueba y conclusiones**\n",
        "\n",
        "Finalmente obtuvimos que una de las mejores configuraciones fue la regresión logística con el método de regularización $L_2$. Habría que evaluar si realmente consideramos que dicha diferencia obtenida es suficientemente mayor a la del modelo de regresión lineal sin regularización y con los parámetros predeterminados, o bien aplicar el criterio de la navaja de Ockham y quedarnos con el modelo más simple. Aunque en un challenge como los que propone Kaggle dicha diferencia mínima sería suficiente para determinar un ganador y por lo tanto valdría la pena realizar dicho ajuste.\n",
        "\n",
        "Con base a nuestro ejemplo ilustrativo, continuemos finalmente con los hiperparámetros encontrados para el mejor resultado de regularización con métrica $L_2$ encontrado, a saber, regresión logística con regularización ridge y valores de C=100.0, solver=liblinear.\n",
        "\n",
        "Para ello usemos por último el conjunto de prueba, que hasta ahora no habíamos utilizado."
      ],
      "metadata": {
        "id": "oHKIKQxmOZsr"
      }
    },
    {
      "cell_type": "code",
      "source": [
        "modelo = LogisticRegression(penalty='l2', \n",
        "                            max_iter=10000,\n",
        "                            C=100.0,\n",
        "                            solver='liblinear',\n",
        "                            random_state=1)\n",
        "\n",
        "# Entrenamos el modelo por última vez con los datos de entrenamiento y validación conjuntos:\n",
        "Xct = columnasTransformer.fit(Xtv)\n",
        "Xxt = Xct.transform(Xtv)\n",
        "modelo.fit(Xxt, np.ravel(ytv))\n",
        "\n",
        "# Transformamos los datos de prueba y los utilizamos por primera vez para obtener sus predicciones\n",
        "# y desempeño del modelo:\n",
        "\n",
        "Xxtest = Xct.transform(Xtest)\n",
        "print(modelo.score(Xxtest, np.ravel(ytest)))"
      ],
      "metadata": {
        "colab": {
          "base_uri": "https://localhost:8080/"
        },
        "id": "l3gmzhamjaEa",
        "outputId": "8e8eec96-d683-4814-8c79-f554c4562bdf"
      },
      "execution_count": 24,
      "outputs": [
        {
          "output_type": "stream",
          "name": "stdout",
          "text": [
            "0.8405797101449275\n"
          ]
        }
      ]
    },
    {
      "cell_type": "markdown",
      "source": [
        "Así, finalmente podemos decir que el desempeño promedio de nuestro modelo será del $84.06\\%$ cuando se utilice en producción con los nuevos datos reales. \n",
        "\n",
        "En realidad antes de llevarlo a producción debemos verificar que el modelo no esté subentrenado o sobreentrenado. De hecho esta pregunta te la hicimos anteriormente, pero volveremos a abordar este tema con estos mismos datos la semana entrante.\n",
        "\n",
        "Por último veamos la manera en que nuestro modelo final lleva a cabo las prediciones de cada clase, se autoriza o no la tarjeta de crédito, mediante el uso de la llamada matriz de confusión: "
      ],
      "metadata": {
        "id": "FELDvX061NS8"
      }
    },
    {
      "cell_type": "code",
      "source": [
        "pp = modelo.predict(Xxtest)\n",
        "cm = confusion_matrix(ytest, pp)\n",
        "print(cm)"
      ],
      "metadata": {
        "colab": {
          "base_uri": "https://localhost:8080/"
        },
        "id": "PbjecfL31BFJ",
        "outputId": "149a5eb6-808e-47b6-c05b-9a7f94a72e49"
      },
      "execution_count": 25,
      "outputs": [
        {
          "output_type": "stream",
          "name": "stdout",
          "text": [
            "[[61 16]\n",
            " [ 6 55]]\n"
          ]
        }
      ]
    },
    {
      "cell_type": "markdown",
      "source": [
        "La matriz de confusión nos ayuda a visualizar la manera en que nuestro modelo está llevando a cabo las predicciones, es decir, la manera en que realiza predicciones correctas o incorrectas.\n",
        "\n",
        "\n",
        "###**Para entender el concepto de la matriz de confusión, realiza la lectura de la subsección \"Confusion Matrix\" del capítulo 3, \"Classification\", sección \"Performance Measures\" del libro de Aurélien Géron.**\n",
        "\n",
        "Igualmente puedes consultar la documentación de scikit-learn sobre el mismo tema:\n",
        "\n",
        "https://scikit-learn.org/stable/auto_examples/model_selection/plot_confusion_matrix.html#sphx-glr-auto-examples-model-selection-plot-confusion-matrix-py"
      ],
      "metadata": {
        "id": "QEHn6eECnL77"
      }
    },
    {
      "cell_type": "markdown",
      "source": [
        "Se puede obtener una mejor visualización de la matriz de confusión mediante las siguientes instrucciones con la librería seaborn. \n",
        "\n",
        "Ver la documentación correspondiente:\n",
        "\n",
        "https://seaborn.pydata.org/generated/seaborn.heatmap.html\n",
        "\n"
      ],
      "metadata": {
        "id": "cqu0uf68yfKM"
      }
    },
    {
      "cell_type": "code",
      "source": [
        "txt = ['Verdaderos Negativos','Falsos Positivos','Falsos Negativos','Verdaderos Positivos']\n",
        "frecuencia = [\"{0:0.0f}\".format(value) for value in cm.flatten()]\n",
        "porcentaje = [\"{0:.1%}\".format(value) for value in cm.flatten()/np.sum(cm)]\n",
        "\n",
        "labels = [f\"{v1}\\n{v2}\\n{v3}\" for v1, v2, v3 in zip(txt,frecuencia,porcentaje)]\n",
        "labels = np.asarray(labels).reshape(2,2)\n",
        "\n",
        "ax = sns.heatmap(cm, annot=labels, fmt='', cmap='Blues', cbar=False)\n",
        "ax.set(ylabel=\"Etiquetas Reales\", xlabel=\"Etiquetas de Predicción\")\n",
        "plt.show()"
      ],
      "metadata": {
        "colab": {
          "base_uri": "https://localhost:8080/",
          "height": 280
        },
        "id": "tvKZXAvFVQ7u",
        "outputId": "36a5d1c2-32ef-4762-9a4d-b7b9f1545566"
      },
      "execution_count": 26,
      "outputs": [
        {
          "output_type": "display_data",
          "data": {
            "text/plain": [
              "<Figure size 432x288 with 1 Axes>"
            ],
            "image/png": "[encoded data removed]"
          },
          "metadata": {
            "needs_background": "light"
          }
        }
      ]
    },
    {
      "cell_type": "markdown",
      "source": [
        "En particular observamos que las predicciones de falsos positivos es mayor que la de falsos negativos. ¿Crees que esto sea lo mejor? Es decir, qué resultaría más costoso para el banco ¿autorizar una tarjeta de crédito a un mal cliente (falso positivo), o negársela a un buen cliente (falso negativo)? ¿Qué información adicional necestitarías para contestar adecuadamente estas preguntas?"
      ],
      "metadata": {
        "id": "K5UYJfQGimnM"
      }
    },
    {
      "cell_type": "markdown",
      "source": [
        "###**--Fin de la actividad--**"
      ],
      "metadata": {
        "id": "Ry-kKwoMyWxQ"
      }
    }
  ]
}