{
  "nbformat": 4,
  "nbformat_minor": 0,
  "metadata": {
    "colab": {
      "provenance": [],
      "authorship_tag": "ABX9TyPhIbhVVwO7ax5Qjb5js/sN",
      "include_colab_link": true
    },
    "kernelspec": {
      "name": "python3",
      "display_name": "Python 3"
    },
    "language_info": {
      "name": "python"
    }
  },
  "cells": [
    {
      "cell_type": "markdown",
      "metadata": {
        "id": "view-in-github",
        "colab_type": "text"
      },
      "source": [
        "<a href=\"https://colab.research.google.com/github/AxelAlex351/IBM/blob/main/Proyecto_Final_Ciencia_de%20Datos.ipynb\" target=\"_parent\"><img src=\"https://colab.research.google.com/assets/colab-badge.svg\" alt=\"Open In Colab\"/></a>"
      ]
    },
    {
      "cell_type": "markdown",
      "source": [
        "# Emisiones de CO₂ por país desde 1750 a 2022"
      ],
      "metadata": {
        "id": "DnaKhx6JwCoc"
      }
    },
    {
      "cell_type": "markdown",
      "source": [
        "Los siguientes datos fueron proporcionados de un dominio web con datos públicos: kaggle.com. Cuya dirección es: https://www.kaggle.com/datasets/moazzimalibhatti/co2-emission-by-countries-year-wise-17502022 \n",
        "\n",
        "Se presentan 9 columnas, en las cuales se presentan la siguiente información, ordenada de izquierda a derecha: el nombre de cada país, un código simbólico que representa cada país, "
      ],
      "metadata": {
        "id": "YV3qO2xX0iQl"
      }
    }
  ]
}